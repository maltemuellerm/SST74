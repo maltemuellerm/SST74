{
 "cells": [
  {
   "cell_type": "code",
   "execution_count": 1,
   "metadata": {},
   "outputs": [],
   "source": [
    "\"\"\"\n",
    "Python implementation of the Zeng & Beljaars 2005 diurnal SST scheme.\n",
    "Partly merged with https://github.com/reykboerner/diusst\n",
    "\n",
    "Test with buoy and AROME Arctic data\n",
    "\n",
    "Author: Malte Müller (maltem@met.no)\n",
    "Date: 01 June 2023\n",
    "\n",
    "References:\n",
    "[1] Zeng and Beljaars (2005), https://doi.org/10.1029/2005GL023030\n",
    "\"\"\"\n",
    "\n",
    "__author__ = \"Malte Mueller\""
   ]
  },
  {
   "cell_type": "code",
   "execution_count": 2,
   "metadata": {},
   "outputs": [],
   "source": [
    "import numpy as np\n",
    "import matplotlib.pyplot as plt"
   ]
  },
  {
   "cell_type": "markdown",
   "metadata": {},
   "source": [
    "### Atmospheric Data"
   ]
  },
  {
   "cell_type": "code",
   "execution_count": 3,
   "metadata": {},
   "outputs": [],
   "source": [
    "class AtmosData: \n",
    "    \"\"\" \n",
    "    Define input data\n",
    "    Definition of variables according to the extraction script\n",
    "    lnet  :: longwave net (pos. down)\n",
    "    fheat :: turbulent heat fluxes (pos. down)\n",
    "    wspeed :: wind speed in m/s\"\"\"\n",
    "    def  __init__(self):\n",
    "        self.time = None\n",
    "        self.snet = None\n",
    "        self.lnet = None\n",
    "        self.wspeed = None"
   ]
  },
  {
   "cell_type": "markdown",
   "metadata": {},
   "source": [
    "### Zeng & Beljaars Model"
   ]
  },
  {
   "cell_type": "code",
   "execution_count": 4,
   "metadata": {},
   "outputs": [],
   "source": [
    "class ZBmodel:\n",
    "\n",
    "    def __init__(self, takaya10=True, reflect=False, \n",
    "        T_f = 300,                      # foundation temperature (K)\n",
    "        d = 3,                          # warm layer depth (m)\n",
    "        nu = 0.3,                       # profile shape parameter\n",
    "        k = 0.4,                        # von Karman constant\n",
    "        g = 9.81,                       # gravity (m/s²)\n",
    "        k_w = 1e-7,                     # molecular diffusion coeff. (m²/s)\n",
    "        a_w = 2.9e-4,                   # thermal expansion coeff. of seawater (1/K)\n",
    "        nu_w = 9e-7,                    # kinematic viscosity of seawater (m²/s)\n",
    "        rho_w = 1027,                   # density of seawater (kg/m³)        \n",
    "        rho_a = 1.1,                    # density of air (kg/m³)        \n",
    "        cp_w = 3850,                    # specific heat capacity of seawater (J/(kg K))\n",
    "        cp_a = 1005,                    # specific heat capacity of air (J/(kg K))\n",
    "        n_w = 1.34,                     # refractive index of seawater\n",
    "        n_a = 1.0,                      # refractive index of air\n",
    "        C_s = 1.3e-3,                   # Stanton number\n",
    "        C_l = 1.5e-3,                   # Dalton number\n",
    "        L_evap = 2.5e6,                 # Latent heat of vaporization (J/kg)\n",
    "        sb_const = 5.67e-8,             # Stefan-Boltzmann constant (W/(m K²)²)\n",
    "        gas_const = 461.51,             # gas constant of water vapor (J/(kg K))\n",
    "        rad_a = [0.28, 0.27, 0.45],     # coefficients of radiation absorption scheme\n",
    "        rad_b = [71.5, 2.8, 0.07],      # exponents of radiation absorption scheme (1/m)\n",
    "        z_wind = 10,                    # wind speed measurement height above sea level (m)\n",
    "        z_rough = None):                # roughness height of sea surface (m)\n",
    "\n",
    "        self.T_f = T_f\n",
    "        self.d = d\n",
    "        self.nu = nu\n",
    "        self.k = k\n",
    "        self.g = g\n",
    "        self.k_w = k_w\n",
    "        self.a_w = a_w\n",
    "        self.nu_w = nu_w\n",
    "        self.rho_w = rho_w\n",
    "        self.rho_a = rho_a\n",
    "        self.cp_w = cp_w\n",
    "        self.cp_a = cp_a\n",
    "        self.n_w = n_w\n",
    "        self.n_a = n_a\n",
    "        self.C_s = C_s\n",
    "        self.C_l = C_l\n",
    "        self.L_evap = L_evap\n",
    "        self.sb_const = sb_const\n",
    "        self.gas_const = gas_const\n",
    "        self.rad_a = rad_a\n",
    "        self.rad_b = rad_b\n",
    "        self.takaya10 = takaya10        # Refinements of Takaya et al. (2010)\n",
    "        self.reflect = reflect          # surface reflection of incident radiation\n",
    "        self.z_wind = z_wind\n",
    "        self.z_rough = z_rough\n",
    "\n",
    "\n",
    "    def Fd(self, data, tidx):\n",
    "        \"\"\" Faktor F_d defined in Eq.(10) (without g*rho) in ZB2005 \"\"\"\n",
    "        return data.lnet[tidx]+data.fheat[tidx] + data.snet[tidx] - 0.36*data.snet[tidx]\n",
    "        \n",
    "    def faktor1(self, data, tidx):\n",
    "        \"\"\" \n",
    "        Faktor 1 in Eq. (11) in ZB2005\n",
    "        Q+Rs-R(-d) # While we assume that R(-d)=0.36*R at a depth of 3m # ASSUMPTION\n",
    "        \"\"\"\n",
    "        numerator   = self.Fd(data, tidx) \n",
    "        denominator = self.d * self.rho_w * self.cp_w * self.nu/(self.nu + 1)\n",
    "        return numerator / denominator\n",
    "\n",
    "    def friction_vel(self, data, tidx, C_drag=0.0015):\n",
    "    \n",
    "        # Friction Velocity\n",
    "        # -----------------\n",
    "        #Calculates the friction velocity in the water, given wind speed u at height z_wind above the surface.\n",
    "        #z0 is the roughness height of the surface (e.g., average wave height).\n",
    "        #Source: https://www.calculatoratoz.com/en/eniction-veloceny-for-known-wind-speed-at-height-above-surface-calculator/calc-23770\n",
    "        #and https://en.wikipedia.org/wiki/Shear_velocity\n",
    "        #and Takaya et al. (2010)  \n",
    "        wind_stress = self.rho_a*C_drag*data.wspeed[tidx]**2\n",
    "        friction_vel = np.sqrt(wind_stress/self.rho_w)\n",
    "        return friction_vel\n",
    "        #friction_vel = self.k*data.wspeed[tidx]/np.log(self.z_wind/z0)*np.sqrt(self.rho_a/self.rho_w)\n",
    "        \n",
    "    def stability_function(self, x):\n",
    "        \"\"\"Eq. (9) of Zeng and Beljaars 2005 [1]\"\"\"\n",
    "        if x >= 0:\n",
    "            if self.takaya10:\n",
    "                return 1 + (5*x + 4*x**2)/(1 + 3*x + 0.25*x**2)\n",
    "            else:\n",
    "                return 1 + 5*x\n",
    "        else:\n",
    "            return (1 - 16*x)**(-0.5)\n",
    "\n",
    "    def L_MO(self, data, tidx):\n",
    "        \"\"\"Monin-Obukhov length, eq. (10) of Zeng and Beljaars 2005 [1]\"\"\"\n",
    "        u_fric = self.friction_vel(data, tidx)\n",
    "        \n",
    "        return (self.rho_w*self.cp_w*u_fric**3)/(self.k*self.rho_w*self.g*self.Fd(data,tidx))\n",
    "\n",
    "    def faktor2(self, data, tidx):\n",
    "        \"\"\"Faktor 2 in Eq. (11) in ZB2005\"\"\"\n",
    "        numerator = (self.nu + 1) * self.k * self.friction_vel(data,tidx)\n",
    "        denominator = self.d * self.stability_function(self.d/self.L_MO(data,tidx))\n",
    "        #\n",
    "        return numerator / denominator\n",
    "    \n",
    "    def fracS(self,data,tidx,delta):\n",
    "        \"\"\"fraction solar radiation absorption in the sublayer Eq(5) in ZB2005\"\"\"\n",
    "        return 0.065 + 11*delta - 6.6e-5/delta*(1 - np.exp(-delta/(8e-4)))\n",
    "\n",
    "        \n",
    "#    def layerthk(self,data,tidx,delta):\n",
    "#        \"\"\"thickness of the skin layer Eq(6) in ZB2005\"\"\"\n",
    "#        \"\"\"with old layerthk delta\"\"\"\n",
    "#        u_fric = self.friction_vel(data, tidx)\n",
    "#        fak1 = (-16*self.g*self.a_w*self.nu_w**3) / (u_fric**4*self.k_w*self.rho_w*self.cp_w)    \n",
    "#        fak2 = data.lnet[tidx]+data.fheat[tidx] + self.fracS(data,tidx,delta) * data.snet[tidx]\n",
    "#        print (fak1,fak2)\n",
    "#        return min(0.01,6* (1+ (fak1*fak2)**(0.75))**(-1/3)) \n",
    "\n",
    "    def layerthk(self, data, tidx, delta):\n",
    "        \"\"\"Eq. (6) of Zeng and Beljaars 2005 [1]\n",
    "        with correction according to Fairall et al. 1996 eqs. (12) and (14) [2]\n",
    "        and modification according to the COARE3.6 algorithm [3]\"\"\"\n",
    "        \n",
    "        heatflux = data.lnet[tidx]+data.fheat[tidx] + self.fracS(data,tidx,delta) * data.snet[tidx]       \n",
    "                \n",
    "        u_fric = self.friction_vel(data, tidx)\n",
    "        \n",
    "        factor = - (16*self.g*self.a_w*self.nu_w**3)/(u_fric**4*self.k_w**2*self.rho_w*self.cp_w)\n",
    "        #print(factor)\n",
    "        delta_new = 6*(1 + (max(0, factor*heatflux)**(3/4)))**(-1/3)*self.nu_w/u_fric\n",
    "        return min(0.01, delta_new)\n",
    "        #return 0.01\n",
    "    \n",
    "    \n",
    "    def skinTfactor(self,data,tidx,delta):\n",
    "        \"\"\"for the skin Temperature Eq(4) in ZB2005\"\"\"\n",
    "        fak = delta / (self.rho_w * self.cp_w *self.k_w)\n",
    "        return fak * (data.lnet[tidx]+data.fheat[tidx] + self.fracS(data,tidx,delta) * data.snet[tidx])\n",
    "    \n",
    "    def simulate_ZB(self, data, dTemp0,delta0):        \n",
    "        \"\"\" (1) Simple implicit time scheme for dTemp Eq.(11) in ZB2005\"\"\"\n",
    "        \n",
    "        dTemp = np.zeros(len(data.time))\n",
    "        dTs   = np.zeros(len(data.time))\n",
    "        delta = np.zeros(len(data.time))\n",
    "        dTemp[0] = dTemp0   \n",
    "        delta[0] = delta0\n",
    "        dT=data.time[1]-data.time[0]       \n",
    "        for tidx in range(1,len(data.time)):\n",
    "            \n",
    "            a=self.faktor1(data,tidx)\n",
    "            b=-self.faktor2(data,tidx)\n",
    "            #print(a*dT,b*dT)\n",
    "            #print(a,b)\n",
    "            #dTemp[tidx] = (dT * a + dTemp[tidx-1]) / (1 - dT * b)\n",
    "            dTemp[tidx] = dTemp[tidx-1] + ( b*dTemp[tidx-1])*dT\n",
    "            \n",
    "            delta[tidx] = self.layerthk(data,tidx,delta[tidx-1]) # update layer thickness          \n",
    "            dTs[tidx] = self.skinTfactor(data,tidx,delta[tidx])\n",
    "            \n",
    "        return dTemp,dTs,delta"
   ]
  },
  {
   "cell_type": "markdown",
   "metadata": {},
   "source": [
    "### Run model with synthetic data"
   ]
  },
  {
   "cell_type": "code",
   "execution_count": 5,
   "metadata": {},
   "outputs": [
    {
     "data": {
      "text/plain": [
       "<matplotlib.legend.Legend at 0x7f6fa0db4b38>"
      ]
     },
     "execution_count": 5,
     "metadata": {},
     "output_type": "execute_result"
    },
    {
     "data": {
      "image/png": "[encoded data removed]",
      "text/plain": [
       "<Figure size 432x288 with 1 Axes>"
      ]
     },
     "metadata": {},
     "output_type": "display_data"
    }
   ],
   "source": [
    "data=AtmosData()\n",
    "\n",
    "#Generaty a dummy field\n",
    "data.time = np.arange(0,4*24*60*60,3600)\n",
    "data.snet = 200*np.sin ( 2*np.pi/(24*3600) *data.time)+170\n",
    "data.lnet = np.random.randn(len(data.time))*5\n",
    "data.wspeed = 0.*data.lnet +1\n",
    "data.fheat = 0.*data.lnet\n",
    "\n",
    "plt.plot(data.time,data.lnet,label='net longwave')\n",
    "plt.plot(data.time,data.snet,label='net solar')\n",
    "plt.legend()"
   ]
  },
  {
   "cell_type": "code",
   "execution_count": 6,
   "metadata": {},
   "outputs": [
    {
     "data": {
      "text/plain": [
       "<matplotlib.legend.Legend at 0x7f6fa0cbbda0>"
      ]
     },
     "execution_count": 6,
     "metadata": {},
     "output_type": "execute_result"
    },
    {
     "data": {
      "image/png": "[encoded data removed]",
      "text/plain": [
       "<Figure size 432x288 with 1 Axes>"
      ]
     },
     "metadata": {},
     "output_type": "display_data"
    }
   ],
   "source": [
    "SSTmodel=ZBmodel()\n",
    "dTemp, dTs, delta = SSTmodel.simulate_ZB(data,0,0.01)\n",
    "plt.plot(dTs[1:100],label='skinTS')\n",
    "plt.plot(dTemp[1:100],label='layerTS')\n",
    "plt.legend()\n",
    "#plt.plot(data.snet/300)\n",
    "#plt.plot(delta)"
   ]
  },
  {
   "cell_type": "markdown",
   "metadata": {},
   "source": [
    "### Run with buoy and AROME Arctic data"
   ]
  },
  {
   "cell_type": "code",
   "execution_count": 9,
   "metadata": {},
   "outputs": [
    {
     "ename": "ModuleNotFoundError",
     "evalue": "No module named 'SST_model_ZB'",
     "output_type": "error",
     "traceback": [
      "\u001b[0;31m---------------------------------------------------------------------------\u001b[0m",
      "\u001b[0;31mModuleNotFoundError\u001b[0m                       Traceback (most recent call last)",
      "\u001b[0;32m<ipython-input-9-7887c0c7dc3b>\u001b[0m in \u001b[0;36m<module>\u001b[0;34m\u001b[0m\n\u001b[1;32m      1\u001b[0m \u001b[0;32mimport\u001b[0m \u001b[0mpickle\u001b[0m\u001b[0;34m\u001b[0m\u001b[0;34m\u001b[0m\u001b[0m\n\u001b[1;32m      2\u001b[0m \u001b[0;32mwith\u001b[0m \u001b[0mopen\u001b[0m\u001b[0;34m(\u001b[0m\u001b[0;34mf'data/AAforce.pickle'\u001b[0m\u001b[0;34m,\u001b[0m \u001b[0;34m'rb'\u001b[0m\u001b[0;34m)\u001b[0m \u001b[0;32mas\u001b[0m \u001b[0mfile\u001b[0m\u001b[0;34m:\u001b[0m \u001b[0;31m# AROME Arctic forcing along trajectory\u001b[0m\u001b[0;34m\u001b[0m\u001b[0;34m\u001b[0m\u001b[0m\n\u001b[0;32m----> 3\u001b[0;31m     \u001b[0mAAforce\u001b[0m \u001b[0;34m=\u001b[0m \u001b[0mpickle\u001b[0m\u001b[0;34m.\u001b[0m\u001b[0mload\u001b[0m\u001b[0;34m(\u001b[0m\u001b[0mfile\u001b[0m\u001b[0;34m)\u001b[0m\u001b[0;34m\u001b[0m\u001b[0;34m\u001b[0m\u001b[0m\n\u001b[0m\u001b[1;32m      4\u001b[0m \u001b[0;32mwith\u001b[0m \u001b[0mopen\u001b[0m\u001b[0;34m(\u001b[0m\u001b[0;34mf'data/dsst.pickle'\u001b[0m\u001b[0;34m,\u001b[0m \u001b[0;34m'rb'\u001b[0m\u001b[0;34m)\u001b[0m \u001b[0;32mas\u001b[0m \u001b[0mfile\u001b[0m\u001b[0;34m:\u001b[0m \u001b[0;31m# Drifter SST\u001b[0m\u001b[0;34m\u001b[0m\u001b[0;34m\u001b[0m\u001b[0m\n\u001b[1;32m      5\u001b[0m     \u001b[0mdsst\u001b[0m \u001b[0;34m=\u001b[0m \u001b[0mpickle\u001b[0m\u001b[0;34m.\u001b[0m\u001b[0mload\u001b[0m\u001b[0;34m(\u001b[0m\u001b[0mfile\u001b[0m\u001b[0;34m)\u001b[0m\u001b[0;34m\u001b[0m\u001b[0;34m\u001b[0m\u001b[0m\n",
      "\u001b[0;31mModuleNotFoundError\u001b[0m: No module named 'SST_model_ZB'"
     ]
    }
   ],
   "source": [
    "import pickle\n",
    "with open(f'data/AAforce.pickle', 'rb') as file: # AROME Arctic forcing along trajectory\n",
    "    AAforce = pickle.load(file)\n",
    "with open(f'data/dsst.pickle', 'rb') as file: # Drifter SST\n",
    "    dsst = pickle.load(file)\n",
    "with open(f'data/gsst.pickle', 'rb') as file: # GOTM SST\n",
    "    gsst =  pickle.load(file)  "
   ]
  },
  {
   "cell_type": "code",
   "execution_count": 10,
   "metadata": {},
   "outputs": [
    {
     "ename": "NameError",
     "evalue": "name 'dataBuoy' is not defined",
     "output_type": "error",
     "traceback": [
      "\u001b[0;31m---------------------------------------------------------------------------\u001b[0m",
      "\u001b[0;31mNameError\u001b[0m                                 Traceback (most recent call last)",
      "\u001b[0;32m<ipython-input-10-305f7d2e3d10>\u001b[0m in \u001b[0;36m<module>\u001b[0;34m\u001b[0m\n\u001b[1;32m      1\u001b[0m \u001b[0mSSTmodel\u001b[0m\u001b[0;34m=\u001b[0m\u001b[0mZBmodel\u001b[0m\u001b[0;34m(\u001b[0m\u001b[0;34m)\u001b[0m\u001b[0;34m\u001b[0m\u001b[0;34m\u001b[0m\u001b[0m\n\u001b[0;32m----> 2\u001b[0;31m \u001b[0mdTemp\u001b[0m\u001b[0;34m,\u001b[0m \u001b[0mdTs\u001b[0m\u001b[0;34m,\u001b[0m \u001b[0mdelta\u001b[0m \u001b[0;34m=\u001b[0m \u001b[0mSSTmodel\u001b[0m\u001b[0;34m.\u001b[0m\u001b[0msimulate_ZB\u001b[0m\u001b[0;34m(\u001b[0m\u001b[0mdataBuoy\u001b[0m\u001b[0;34m,\u001b[0m\u001b[0;36m0\u001b[0m\u001b[0;34m,\u001b[0m\u001b[0;36m0.01\u001b[0m\u001b[0;34m)\u001b[0m\u001b[0;34m\u001b[0m\u001b[0;34m\u001b[0m\u001b[0m\n\u001b[0m\u001b[1;32m      3\u001b[0m \u001b[0mplt\u001b[0m\u001b[0;34m.\u001b[0m\u001b[0mplot\u001b[0m\u001b[0;34m(\u001b[0m\u001b[0mdTs\u001b[0m\u001b[0;34m[\u001b[0m\u001b[0;34m:\u001b[0m\u001b[0;34m]\u001b[0m\u001b[0;34m,\u001b[0m\u001b[0mlabel\u001b[0m\u001b[0;34m=\u001b[0m\u001b[0;34m'skinTS'\u001b[0m\u001b[0;34m)\u001b[0m\u001b[0;34m\u001b[0m\u001b[0;34m\u001b[0m\u001b[0m\n\u001b[1;32m      4\u001b[0m \u001b[0mplt\u001b[0m\u001b[0;34m.\u001b[0m\u001b[0mplot\u001b[0m\u001b[0;34m(\u001b[0m\u001b[0mdTemp\u001b[0m\u001b[0;34m[\u001b[0m\u001b[0;34m:\u001b[0m\u001b[0;34m]\u001b[0m\u001b[0;34m,\u001b[0m\u001b[0mlabel\u001b[0m\u001b[0;34m=\u001b[0m\u001b[0;34m'layerTS'\u001b[0m\u001b[0;34m)\u001b[0m\u001b[0;34m\u001b[0m\u001b[0;34m\u001b[0m\u001b[0m\n\u001b[1;32m      5\u001b[0m \u001b[0mplt\u001b[0m\u001b[0;34m.\u001b[0m\u001b[0mplot\u001b[0m\u001b[0;34m(\u001b[0m\u001b[0mdsst\u001b[0m\u001b[0;34m-\u001b[0m\u001b[0;36m9\u001b[0m\u001b[0;34m,\u001b[0m\u001b[0mlabel\u001b[0m\u001b[0;34m=\u001b[0m\u001b[0;34m'drifter SST'\u001b[0m\u001b[0;34m)\u001b[0m\u001b[0;34m\u001b[0m\u001b[0;34m\u001b[0m\u001b[0m\n",
      "\u001b[0;31mNameError\u001b[0m: name 'dataBuoy' is not defined"
     ]
    }
   ],
   "source": [
    "SSTmodel=ZBmodel()\n",
    "dTemp, dTs, delta = SSTmodel.simulate_ZB(dataBuoy,0,0.01)\n",
    "plt.plot(dTs[:],label='skinTS')\n",
    "plt.plot(dTemp[:],label='layerTS')\n",
    "plt.plot(dsst-9,label='drifter SST')\n",
    "plt.plot(gsst-9,label='GOTM SST')\n",
    "plt.legend()"
   ]
  },
  {
   "cell_type": "code",
   "execution_count": null,
   "metadata": {},
   "outputs": [],
   "source": []
  }
 ],
 "metadata": {
  "kernelspec": {
   "display_name": "Python 3",
   "language": "python",
   "name": "python3"
  },
  "language_info": {
   "codemirror_mode": {
    "name": "ipython",
    "version": 3
   },
   "file_extension": ".py",
   "mimetype": "text/x-python",
   "name": "python",
   "nbconvert_exporter": "python",
   "pygments_lexer": "ipython3",
   "version": "3.6.9"
  }
 },
 "nbformat": 4,
 "nbformat_minor": 2
}
